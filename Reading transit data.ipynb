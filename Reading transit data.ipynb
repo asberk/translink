{
 "cells": [
  {
   "cell_type": "markdown",
   "metadata": {},
   "source": [
    "Import required packages"
   ]
  },
  {
   "cell_type": "code",
   "execution_count": 1,
   "metadata": {
    "collapsed": false
   },
   "outputs": [
    {
     "name": "stdout",
     "output_type": "stream",
     "text": [
      "Populating the interactive namespace from numpy and matplotlib\n"
     ]
    }
   ],
   "source": [
    "%pylab inline\n",
    "import math, re, json, requests\n",
    "from google.protobuf import json_format"
   ]
  },
  {
   "cell_type": "code",
   "execution_count": 2,
   "metadata": {
    "collapsed": true
   },
   "outputs": [],
   "source": [
    "from google.transit import gtfs_realtime_pb2\n",
    "import requests\n",
    "import pandas as pd"
   ]
  },
  {
   "cell_type": "code",
   "execution_count": 3,
   "metadata": {
    "collapsed": true
   },
   "outputs": [],
   "source": [
    "from datetime import datetime\n",
    "import time\n",
    "from pytz import timezone"
   ]
  },
  {
   "cell_type": "markdown",
   "metadata": {},
   "source": [
    "# Trip updates"
   ]
  },
  {
   "cell_type": "markdown",
   "metadata": {},
   "source": [
    "URL and credential for Translink GTFS-Realtime"
   ]
  },
  {
   "cell_type": "code",
   "execution_count": 4,
   "metadata": {
    "collapsed": true
   },
   "outputs": [],
   "source": [
    "baseURL = 'http://gtfs.translink.ca/gtfsrealtime?apikey='\n",
    "apikey = 'EuqbS0U1AatCOXictFZd'"
   ]
  },
  {
   "cell_type": "code",
   "execution_count": 5,
   "metadata": {
    "collapsed": true
   },
   "outputs": [],
   "source": [
    "feed = gtfs_realtime_pb2.FeedMessage()\n",
    "response = requests.get(baseURL + apikey)"
   ]
  },
  {
   "cell_type": "code",
   "execution_count": 6,
   "metadata": {
    "collapsed": true
   },
   "outputs": [],
   "source": [
    "feed.ParseFromString(response.content)"
   ]
  },
  {
   "cell_type": "code",
   "execution_count": 7,
   "metadata": {
    "collapsed": false,
    "scrolled": true
   },
   "outputs": [
    {
     "name": "stdout",
     "output_type": "stream",
     "text": [
      "Entity 0\n",
      "id: \"9032187\"\n",
      "trip_update {\n",
      "  trip {\n",
      "    trip_id: \"9032187\"\n",
      "  }\n",
      "  stop_time_update {\n",
      "    departure {\n",
      "      delay: 0\n",
      "    }\n",
      "    stop_id: \"22\"\n",
      "  }\n",
      "  vehicle {\n",
      "    id: \"9581\"\n",
      "    label: \"9581\"\n",
      "  }\n",
      "  timestamp: 1498604951\n",
      "}\n",
      "\r\n",
      "Entity 1\n",
      "id: \"9018039\"\n",
      "trip_update {\n",
      "  trip {\n",
      "    trip_id: \"9018039\"\n",
      "  }\n",
      "  stop_time_update {\n",
      "    departure {\n",
      "      delay: -120\n",
      "    }\n",
      "    stop_id: \"29\"\n",
      "  }\n",
      "  vehicle {\n",
      "    id: \"9568\"\n",
      "    label: \"9568\"\n",
      "  }\n",
      "  timestamp: 1498604951\n",
      "}\n",
      "\r\n",
      "Entity 2\n",
      "id: \"9046033\"\n",
      "trip_update {\n",
      "  trip {\n",
      "    trip_id: \"9046033\"\n",
      "  }\n",
      "  stop_time_update {\n",
      "    departure {\n",
      "      delay: 600\n",
      "    }\n",
      "    stop_id: \"36\"\n",
      "  }\n",
      "  vehicle {\n",
      "    id: \"9663\"\n",
      "    label: \"9663\"\n",
      "  }\n",
      "  timestamp: 1498604951\n",
      "}\n",
      "\r\n",
      "Entity 3\n",
      "id: \"9020703\"\n",
      "trip_update {\n",
      "  trip {\n",
      "    trip_id: \"9020703\"\n",
      "  }\n",
      "  stop_time_update {\n",
      "    departure {\n",
      "      delay: 0\n",
      "    }\n",
      "    stop_id: \"48\"\n",
      "  }\n",
      "  vehicle {\n",
      "    id: \"2109\"\n",
      "    label: \"2109\"\n",
      "  }\n",
      "  timestamp: 1498604951\n",
      "}\n",
      "\r\n",
      "Entity 4\n",
      "id: \"9017953\"\n",
      "trip_update {\n",
      "  trip {\n",
      "    trip_id: \"9017953\"\n",
      "  }\n",
      "  stop_time_update {\n",
      "    departure {\n",
      "      delay: 120\n",
      "    }\n",
      "    stop_id: \"56\"\n",
      "  }\n",
      "  vehicle {\n",
      "    id: \"9503\"\n",
      "    label: \"9503\"\n",
      "  }\n",
      "  timestamp: 1498604951\n",
      "}\n",
      "\r\n",
      "Entity 5\n",
      "id: \"9017949\"\n",
      "trip_update {\n",
      "  trip {\n",
      "    trip_id: \"9017949\"\n",
      "  }\n",
      "  stop_time_update {\n",
      "    departure {\n",
      "      delay: 960\n",
      "    }\n",
      "    stop_id: \"68\"\n",
      "  }\n",
      "  vehicle {\n",
      "    id: \"9575\"\n",
      "    label: \"9575\"\n",
      "  }\n",
      "  timestamp: 1498604951\n",
      "}\n",
      "\r\n",
      "Entity 6\n",
      "id: \"9017951\"\n",
      "trip_update {\n",
      "  trip {\n",
      "    trip_id: \"9017951\"\n",
      "  }\n",
      "  stop_time_update {\n",
      "    departure {\n",
      "      delay: 0\n",
      "    }\n",
      "    stop_id: \"69\"\n",
      "  }\n",
      "  vehicle {\n",
      "    id: \"9561\"\n",
      "    label: \"9561\"\n",
      "  }\n",
      "  timestamp: 1498604951\n",
      "}\n",
      "\r\n",
      "Entity 7\n",
      "id: \"9017950\"\n",
      "trip_update {\n",
      "  trip {\n",
      "    trip_id: \"9017950\"\n",
      "  }\n",
      "  stop_time_update {\n",
      "    departure {\n",
      "      delay: 240\n",
      "    }\n",
      "    stop_id: \"69\"\n",
      "  }\n",
      "  vehicle {\n",
      "    id: \"9476\"\n",
      "    label: \"9476\"\n",
      "  }\n",
      "  timestamp: 1498604951\n",
      "}\n",
      "\r\n",
      "Entity 8\n",
      "id: \"9020532\"\n",
      "trip_update {\n",
      "  trip {\n",
      "    trip_id: \"9020532\"\n",
      "  }\n",
      "  stop_time_update {\n",
      "    departure {\n",
      "      delay: 240\n",
      "    }\n",
      "    stop_id: \"74\"\n",
      "  }\n",
      "  vehicle {\n",
      "    id: \"2106\"\n",
      "    label: \"2106\"\n",
      "  }\n",
      "  timestamp: 1498604951\n",
      "}\n",
      "\r\n",
      "Entity 9\n",
      "id: \"9031420\"\n",
      "trip_update {\n",
      "  trip {\n",
      "    trip_id: \"9031420\"\n",
      "  }\n",
      "  stop_time_update {\n",
      "    departure {\n",
      "      delay: -720\n",
      "    }\n",
      "    stop_id: \"75\"\n",
      "  }\n",
      "  vehicle {\n",
      "    id: \"16216\"\n",
      "    label: \"16216\"\n",
      "  }\n",
      "  timestamp: 1498604951\n",
      "}\n",
      "\r\n"
     ]
    }
   ],
   "source": [
    "for j in range(10):\n",
    "    print('Entity {}'.format(j))\n",
    "    print(feed.entity[j], end='\\r')\n",
    "    print()"
   ]
  },
  {
   "cell_type": "code",
   "execution_count": 8,
   "metadata": {
    "collapsed": false
   },
   "outputs": [
    {
     "data": {
      "text/plain": [
       "id: \"9032187\"\n",
       "trip_update {\n",
       "  trip {\n",
       "    trip_id: \"9032187\"\n",
       "  }\n",
       "  stop_time_update {\n",
       "    departure {\n",
       "      delay: 0\n",
       "    }\n",
       "    stop_id: \"22\"\n",
       "  }\n",
       "  vehicle {\n",
       "    id: \"9581\"\n",
       "    label: \"9581\"\n",
       "  }\n",
       "  timestamp: 1498604951\n",
       "}"
      ]
     },
     "execution_count": 8,
     "metadata": {},
     "output_type": "execute_result"
    }
   ],
   "source": [
    "feed.entity[0]"
   ]
  },
  {
   "cell_type": "code",
   "execution_count": 9,
   "metadata": {
    "collapsed": true
   },
   "outputs": [],
   "source": [
    "trip_updates = [json_format.MessageToDict(entity.trip_update) \n",
    "                for entity in feed.entity \n",
    "                if entity.HasField('trip_update')]"
   ]
  },
  {
   "cell_type": "code",
   "execution_count": 21,
   "metadata": {
    "collapsed": false
   },
   "outputs": [],
   "source": [
    "def tryIntCoerce(x):\n",
    "    try:\n",
    "        x = int(x)\n",
    "    except ValueError as ve:\n",
    "        pass\n",
    "    return x"
   ]
  },
  {
   "cell_type": "code",
   "execution_count": 22,
   "metadata": {
    "collapsed": true
   },
   "outputs": [],
   "source": [
    "def stripDelay(tu, verbose=False):\n",
    "    try: \n",
    "        return {'departure_delay' : tryIntCoerce(tu['stopTimeUpdate'][0]['departure']['delay']),\n",
    "                'stopId' : tryIntCoerce(tu['stopTimeUpdate'][0]['stopId']), \n",
    "                'timestamp' : tryIntCoerce(tu['timestamp']), \n",
    "                'tripId' : tryIntCoerce(tu['trip']['tripId']), \n",
    "                'vehicle' : tryIntCoerce(tu['vehicle']['id'])}\n",
    "    except KeyError as e:\n",
    "        if verbose:\n",
    "            print(e)\n",
    "            print(tu)\n",
    "            print('')\n",
    "        return False"
   ]
  },
  {
   "cell_type": "code",
   "execution_count": 23,
   "metadata": {
    "collapsed": true
   },
   "outputs": [],
   "source": [
    "delays = []\n",
    "not_delays = []\n",
    "for tu in trip_updates:\n",
    "    sd = stripDelay(tu)\n",
    "    if sd:\n",
    "        delays.append(sd)\n",
    "    else:\n",
    "        not_delays.append(tu)"
   ]
  },
  {
   "cell_type": "code",
   "execution_count": 24,
   "metadata": {
    "collapsed": false
   },
   "outputs": [
    {
     "name": "stdout",
     "output_type": "stream",
     "text": [
      "number of trip updates: 1123\n",
      "number of delays: 1061\n",
      "number of other trip_updates: 62\n"
     ]
    }
   ],
   "source": [
    "print('number of trip updates: {}'.format(len(trip_updates)))\n",
    "print('number of delays: {}'.format(len(delays)))\n",
    "print('number of other trip_updates: {}'.format(len(not_delays)))"
   ]
  },
  {
   "cell_type": "code",
   "execution_count": 25,
   "metadata": {
    "collapsed": false
   },
   "outputs": [
    {
     "data": {
      "text/plain": [
       "{'departure_delay': 0,\n",
       " 'stopId': 22,\n",
       " 'timestamp': 1498604951,\n",
       " 'tripId': 9032187,\n",
       " 'vehicle': 9581}"
      ]
     },
     "execution_count": 25,
     "metadata": {},
     "output_type": "execute_result"
    }
   ],
   "source": [
    "delays[0]"
   ]
  },
  {
   "cell_type": "code",
   "execution_count": 26,
   "metadata": {
    "collapsed": true
   },
   "outputs": [],
   "source": [
    "delay_df = pd.DataFrame(delays)"
   ]
  },
  {
   "cell_type": "code",
   "execution_count": 30,
   "metadata": {
    "collapsed": false
   },
   "outputs": [
    {
     "data": {
      "image/png": "[encoded data removed]",
      "text/plain": [
       "<matplotlib.figure.Figure at 0x116642780>"
      ]
     },
     "metadata": {},
     "output_type": "display_data"
    }
   ],
   "source": [
    "plt.hist(delay_df['departure_delay'], bins=20);"
   ]
  },
  {
   "cell_type": "code",
   "execution_count": 33,
   "metadata": {
    "collapsed": true
   },
   "outputs": [],
   "source": [
    "from scipy.stats import mode"
   ]
  },
  {
   "cell_type": "code",
   "execution_count": 34,
   "metadata": {
    "collapsed": false
   },
   "outputs": [
    {
     "data": {
      "text/plain": [
       "860"
      ]
     },
     "execution_count": 34,
     "metadata": {},
     "output_type": "execute_result"
    }
   ],
   "source": [
    "np.unique(delay_df.stopId).size"
   ]
  },
  {
   "cell_type": "code",
   "execution_count": 35,
   "metadata": {
    "collapsed": false
   },
   "outputs": [
    {
     "data": {
      "text/plain": [
       "ModeResult(mode=array([10929]), count=array([7]))"
      ]
     },
     "execution_count": 35,
     "metadata": {},
     "output_type": "execute_result"
    }
   ],
   "source": [
    "mode(delay_df.stopId)"
   ]
  },
  {
   "cell_type": "code",
   "execution_count": 36,
   "metadata": {
    "collapsed": false
   },
   "outputs": [
    {
     "data": {
      "text/plain": [
       "10929    7\n",
       "5593     5\n",
       "11805    5\n",
       "11270    5\n",
       "10706    5\n",
       "6456     5\n",
       "6467     5\n",
       "6197     5\n",
       "6578     5\n",
       "11638    4\n",
       "8649     4\n",
       "8324     4\n",
       "76       4\n",
       "1856     4\n",
       "8283     4\n",
       "11252    4\n",
       "95       4\n",
       "1907     3\n",
       "9487     3\n",
       "5042     3\n",
       "7096     3\n",
       "80       3\n",
       "11499    3\n",
       "5815     3\n",
       "3023     3\n",
       "423      3\n",
       "6572     3\n",
       "4242     3\n",
       "6914     3\n",
       "386      3\n",
       "        ..\n",
       "1176     1\n",
       "1173     1\n",
       "1171     1\n",
       "5266     1\n",
       "11409    1\n",
       "1237     1\n",
       "11478    1\n",
       "3731     1\n",
       "11526    1\n",
       "12172    1\n",
       "1308     1\n",
       "1301     1\n",
       "9486     1\n",
       "6482     1\n",
       "7434     1\n",
       "9481     1\n",
       "7432     1\n",
       "11527    1\n",
       "11523    1\n",
       "3296     1\n",
       "11519    1\n",
       "5370     1\n",
       "9464     1\n",
       "8740     1\n",
       "11501    1\n",
       "5352     1\n",
       "1254     1\n",
       "9445     1\n",
       "1250     1\n",
       "4096     1\n",
       "Name: stopId, Length: 860, dtype: int64"
      ]
     },
     "execution_count": 36,
     "metadata": {},
     "output_type": "execute_result"
    }
   ],
   "source": [
    "pd.value_counts(delay_df.stopId)"
   ]
  },
  {
   "cell_type": "markdown",
   "metadata": {},
   "source": [
    "# Position updates"
   ]
  },
  {
   "cell_type": "markdown",
   "metadata": {},
   "source": [
    "cf. Python file"
   ]
  },
  {
   "cell_type": "markdown",
   "metadata": {},
   "source": [
    "# Potential Questions"
   ]
  },
  {
   "cell_type": "markdown",
   "metadata": {},
   "source": [
    "Compute the distribution of the delays. \n",
    " * What would you expect the distribution to be? \n",
    " * How far is it from being a normal distribution? \n",
    " * What route has the most delays? \n",
    " * What stop is the worst for delays? (How are you measuring \"worst\"?)\n",
    "\n"
   ]
  }
 ],
 "metadata": {
  "anaconda-cloud": {},
  "kernelspec": {
   "display_name": "Python 3",
   "language": "python",
   "name": "python3"
  },
  "language_info": {
   "codemirror_mode": {
    "name": "ipython",
    "version": 3
   },
   "file_extension": ".py",
   "mimetype": "text/x-python",
   "name": "python",
   "nbconvert_exporter": "python",
   "pygments_lexer": "ipython3",
   "version": "3.5.2"
  },
  "toc": {
   "colors": {
    "hover_highlight": "#DAA520",
    "navigate_num": "#000000",
    "navigate_text": "#333333",
    "running_highlight": "#FF0000",
    "selected_highlight": "#FFD700",
    "sidebar_border": "#EEEEEE",
    "wrapper_background": "#FFFFFF"
   },
   "moveMenuLeft": true,
   "nav_menu": {
    "height": "48px",
    "width": "252px"
   },
   "navigate_menu": true,
   "number_sections": true,
   "sideBar": true,
   "threshold": 4,
   "toc_cell": false,
   "toc_section_display": "block",
   "toc_window_display": false,
   "widenNotebook": false
  }
 },
 "nbformat": 4,
 "nbformat_minor": 1
}
